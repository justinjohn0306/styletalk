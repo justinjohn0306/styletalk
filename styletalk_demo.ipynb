{
  "nbformat": 4,
  "nbformat_minor": 0,
  "metadata": {
    "colab": {
      "provenance": []
    },
    "kernelspec": {
      "name": "python3",
      "display_name": "Python 3"
    },
    "language_info": {
      "name": "python"
    },
    "accelerator": "GPU",
    "gpuClass": "standard"
  },
  "cells": [
    {
      "cell_type": "markdown",
      "source": [
        "# **[StyleTalk](https://github.com/FuxiVirtualHuman/styletalk)**"
      ],
      "metadata": {
        "id": "DWG3EBQg555y"
      }
    },
    {
      "cell_type": "code",
      "execution_count": null,
      "metadata": {
        "cellView": "form",
        "id": "9jGLfAKd3FP6"
      },
      "outputs": [],
      "source": [
        "#@markdown ## **Clone repo and install dependencies**\n",
        "\n",
        "!git clone https://github.com/justinjohn0306/styletalk\n",
        "\n",
        "%cd styletalk\n",
        "\n",
        "!pip install -r requirements.txt"
      ]
    },
    {
      "cell_type": "code",
      "source": [
        "#@markdown ## **Download the pretrained models**\n",
        "!mkdir checkpoints\n",
        "\n",
        "import gdown\n",
        "\n",
        "gdown.download(\"https://drive.google.com/uc?id=1z54FymEiyPQ0mPGrVePt8GMtDe-E2RmN\", \"/content/styletalk/checkpoints/styletalk_checkpoint.pth\", quiet=False)\n",
        "\n",
        "gdown.download(\"https://drive.google.com/uc?id=1wFAtFQjybKI3hwRWvtcBDl4tpZzlDkja\", \"/content/styletalk/checkpoints/renderer_checkpoint.pt\", quiet=False)"
      ],
      "metadata": {
        "cellView": "form",
        "id": "fOd2Mk3q3riy"
      },
      "execution_count": null,
      "outputs": []
    },
    {
      "cell_type": "code",
      "source": [
        "#@title #**Inference**\n",
        "!python inference_for_demo.py \\\n",
        "--audio_path samples/source_video/phoneme/reagan_clip1_seq.json \\\n",
        "--style_clip_path samples/style_clips/3DMM/happyenglish_clip1.mat \\\n",
        "--pose_path samples/source_video/3DMM/reagan_clip1.mat \\\n",
        "--src_img_path samples/source_video/image/andrew_clip_1.png \\\n",
        "--wav_path samples/source_video/wav/reagan_clip1.wav \\\n",
        "--output_path demo.mp4"
      ],
      "metadata": {
        "id": "UCAvICDJ3Z0w"
      },
      "execution_count": null,
      "outputs": []
    },
    {
      "cell_type": "code",
      "source": [
        "#@markdown ## **View the result video in browser**\n",
        "from IPython.display import HTML\n",
        "from base64 import b64encode\n",
        "mp4 = open('demo.mp4','rb').read()\n",
        "data_url = \"data:video/mp4;base64,\" + b64encode(mp4).decode()\n",
        "HTML(\"\"\"\n",
        "<video width=400 controls>\n",
        "      <source src=\"%s\" type=\"video/mp4\">\n",
        "</video>\n",
        "\"\"\" % data_url)"
      ],
      "metadata": {
        "cellView": "form",
        "id": "pBN_vjot5B8K"
      },
      "execution_count": null,
      "outputs": []
    }
  ]
}
